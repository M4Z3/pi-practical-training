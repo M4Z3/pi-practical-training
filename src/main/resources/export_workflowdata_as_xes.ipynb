{
 "cells": [
  {
   "cell_type": "code",
   "execution_count": 19,
   "metadata": {
    "collapsed": true,
    "ExecuteTime": {
     "start_time": "2023-04-25T19:51:15.291011Z",
     "end_time": "2023-04-25T19:51:15.365386Z"
    }
   },
   "outputs": [
    {
     "data": {
      "text/plain": "                                     id              parentActivityInstanceId   \n0  2c656903-e3c1-11ed-83fe-0242ed2fed37  2bd16630-e3c1-11ed-83fe-0242ed2fed37  \\\n1  2c7aed03-e3c1-11ed-83fe-0242ed2fed37  2c605fdd-e3c1-11ed-83fe-0242ed2fed37   \n2  2c926be2-e3c1-11ed-83fe-0242ed2fed37  2c7f58dd-e3c1-11ed-83fe-0242ed2fed37   \n3  2caa12be-e3c1-11ed-83fe-0242ed2fed37  2c605fdd-e3c1-11ed-83fe-0242ed2fed37   \n4  2ccf9c6c-e3c1-11ed-83fe-0242ed2fed37  2c7f58dd-e3c1-11ed-83fe-0242ed2fed37   \n\n                        activityId                      activityName   \n0  Usertask_call_alternative_parts  offer alternative part selection  \\\n1  Usertask_call_alternative_parts  offer alternative part selection   \n2  Usertask_call_alternative_parts  offer alternative part selection   \n3  Usertask_call_alternative_parts  offer alternative part selection   \n4  Usertask_call_alternative_parts  offer alternative part selection   \n\n  activityType     processDefinitionKey   \n0     userTask  personal_computer_sales  \\\n1     userTask  personal_computer_sales   \n2     userTask  personal_computer_sales   \n3     userTask  personal_computer_sales   \n4     userTask  personal_computer_sales   \n\n                                 processDefinitionId   \n0  personal_computer_sales:1:254cb2a0-e3c1-11ed-8...  \\\n1  personal_computer_sales:1:254cb2a0-e3c1-11ed-8...   \n2  personal_computer_sales:1:254cb2a0-e3c1-11ed-8...   \n3  personal_computer_sales:1:254cb2a0-e3c1-11ed-8...   \n4  personal_computer_sales:1:254cb2a0-e3c1-11ed-8...   \n\n                      processInstanceId                           executionId   \n0  2bd16630-e3c1-11ed-83fe-0242ed2fed37  2c6541f2-e3c1-11ed-83fe-0242ed2fed37  \\\n1  2c605fdd-e3c1-11ed-83fe-0242ed2fed37  2c7aed02-e3c1-11ed-83fe-0242ed2fed37   \n2  2c7f58dd-e3c1-11ed-83fe-0242ed2fed37  2c926be1-e3c1-11ed-83fe-0242ed2fed37   \n3  2c605fdd-e3c1-11ed-83fe-0242ed2fed37  2caa12bd-e3c1-11ed-83fe-0242ed2fed37   \n4  2c7f58dd-e3c1-11ed-83fe-0242ed2fed37  2ccf9c6b-e3c1-11ed-83fe-0242ed2fed37   \n\n                                 taskId  ... calledCaseInstanceId assignee   \n0  2c656904-e3c1-11ed-83fe-0242ed2fed37  ...                 None     demo  \\\n1  2c7b1314-e3c1-11ed-83fe-0242ed2fed37  ...                 None     demo   \n2  2c926be3-e3c1-11ed-83fe-0242ed2fed37  ...                 None     demo   \n3  2caa12bf-e3c1-11ed-83fe-0242ed2fed37  ...                 None     demo   \n4  2ccf9c6d-e3c1-11ed-83fe-0242ed2fed37  ...                 None     demo   \n\n                      startTime                       endTime   \n0  2023-04-25T19:30:33.139-0400  2023-04-25T19:30:33.264-0400  \\\n1  2023-04-25T19:30:33.280-0400  2023-04-25T19:30:33.469-0400   \n2  2023-04-25T19:30:33.434-0400  2023-04-25T19:30:33.739-0400   \n3  2023-04-25T19:30:33.589-0400  2023-04-25T19:30:33.791-0400   \n4  2023-04-25T19:30:33.835-0400  2023-04-25T19:30:33.979-0400   \n\n  durationInMillis  canceled  completeScope  tenantId removalTime   \n0            125.0     False          False      None        None  \\\n1            189.0     False          False      None        None   \n2            305.0     False          False      None        None   \n3            202.0     False          False      None        None   \n4            144.0     False          False      None        None   \n\n                  rootProcessInstanceId  \n0  2bd16630-e3c1-11ed-83fe-0242ed2fed37  \n1  2c605fdd-e3c1-11ed-83fe-0242ed2fed37  \n2  2c7f58dd-e3c1-11ed-83fe-0242ed2fed37  \n3  2c605fdd-e3c1-11ed-83fe-0242ed2fed37  \n4  2c7f58dd-e3c1-11ed-83fe-0242ed2fed37  \n\n[5 rows x 21 columns]",
      "text/html": "<div>\n<style scoped>\n    .dataframe tbody tr th:only-of-type {\n        vertical-align: middle;\n    }\n\n    .dataframe tbody tr th {\n        vertical-align: top;\n    }\n\n    .dataframe thead th {\n        text-align: right;\n    }\n</style>\n<table border=\"1\" class=\"dataframe\">\n  <thead>\n    <tr style=\"text-align: right;\">\n      <th></th>\n      <th>id</th>\n      <th>parentActivityInstanceId</th>\n      <th>activityId</th>\n      <th>activityName</th>\n      <th>activityType</th>\n      <th>processDefinitionKey</th>\n      <th>processDefinitionId</th>\n      <th>processInstanceId</th>\n      <th>executionId</th>\n      <th>taskId</th>\n      <th>...</th>\n      <th>calledCaseInstanceId</th>\n      <th>assignee</th>\n      <th>startTime</th>\n      <th>endTime</th>\n      <th>durationInMillis</th>\n      <th>canceled</th>\n      <th>completeScope</th>\n      <th>tenantId</th>\n      <th>removalTime</th>\n      <th>rootProcessInstanceId</th>\n    </tr>\n  </thead>\n  <tbody>\n    <tr>\n      <th>0</th>\n      <td>2c656903-e3c1-11ed-83fe-0242ed2fed37</td>\n      <td>2bd16630-e3c1-11ed-83fe-0242ed2fed37</td>\n      <td>Usertask_call_alternative_parts</td>\n      <td>offer alternative part selection</td>\n      <td>userTask</td>\n      <td>personal_computer_sales</td>\n      <td>personal_computer_sales:1:254cb2a0-e3c1-11ed-8...</td>\n      <td>2bd16630-e3c1-11ed-83fe-0242ed2fed37</td>\n      <td>2c6541f2-e3c1-11ed-83fe-0242ed2fed37</td>\n      <td>2c656904-e3c1-11ed-83fe-0242ed2fed37</td>\n      <td>...</td>\n      <td>None</td>\n      <td>demo</td>\n      <td>2023-04-25T19:30:33.139-0400</td>\n      <td>2023-04-25T19:30:33.264-0400</td>\n      <td>125.0</td>\n      <td>False</td>\n      <td>False</td>\n      <td>None</td>\n      <td>None</td>\n      <td>2bd16630-e3c1-11ed-83fe-0242ed2fed37</td>\n    </tr>\n    <tr>\n      <th>1</th>\n      <td>2c7aed03-e3c1-11ed-83fe-0242ed2fed37</td>\n      <td>2c605fdd-e3c1-11ed-83fe-0242ed2fed37</td>\n      <td>Usertask_call_alternative_parts</td>\n      <td>offer alternative part selection</td>\n      <td>userTask</td>\n      <td>personal_computer_sales</td>\n      <td>personal_computer_sales:1:254cb2a0-e3c1-11ed-8...</td>\n      <td>2c605fdd-e3c1-11ed-83fe-0242ed2fed37</td>\n      <td>2c7aed02-e3c1-11ed-83fe-0242ed2fed37</td>\n      <td>2c7b1314-e3c1-11ed-83fe-0242ed2fed37</td>\n      <td>...</td>\n      <td>None</td>\n      <td>demo</td>\n      <td>2023-04-25T19:30:33.280-0400</td>\n      <td>2023-04-25T19:30:33.469-0400</td>\n      <td>189.0</td>\n      <td>False</td>\n      <td>False</td>\n      <td>None</td>\n      <td>None</td>\n      <td>2c605fdd-e3c1-11ed-83fe-0242ed2fed37</td>\n    </tr>\n    <tr>\n      <th>2</th>\n      <td>2c926be2-e3c1-11ed-83fe-0242ed2fed37</td>\n      <td>2c7f58dd-e3c1-11ed-83fe-0242ed2fed37</td>\n      <td>Usertask_call_alternative_parts</td>\n      <td>offer alternative part selection</td>\n      <td>userTask</td>\n      <td>personal_computer_sales</td>\n      <td>personal_computer_sales:1:254cb2a0-e3c1-11ed-8...</td>\n      <td>2c7f58dd-e3c1-11ed-83fe-0242ed2fed37</td>\n      <td>2c926be1-e3c1-11ed-83fe-0242ed2fed37</td>\n      <td>2c926be3-e3c1-11ed-83fe-0242ed2fed37</td>\n      <td>...</td>\n      <td>None</td>\n      <td>demo</td>\n      <td>2023-04-25T19:30:33.434-0400</td>\n      <td>2023-04-25T19:30:33.739-0400</td>\n      <td>305.0</td>\n      <td>False</td>\n      <td>False</td>\n      <td>None</td>\n      <td>None</td>\n      <td>2c7f58dd-e3c1-11ed-83fe-0242ed2fed37</td>\n    </tr>\n    <tr>\n      <th>3</th>\n      <td>2caa12be-e3c1-11ed-83fe-0242ed2fed37</td>\n      <td>2c605fdd-e3c1-11ed-83fe-0242ed2fed37</td>\n      <td>Usertask_call_alternative_parts</td>\n      <td>offer alternative part selection</td>\n      <td>userTask</td>\n      <td>personal_computer_sales</td>\n      <td>personal_computer_sales:1:254cb2a0-e3c1-11ed-8...</td>\n      <td>2c605fdd-e3c1-11ed-83fe-0242ed2fed37</td>\n      <td>2caa12bd-e3c1-11ed-83fe-0242ed2fed37</td>\n      <td>2caa12bf-e3c1-11ed-83fe-0242ed2fed37</td>\n      <td>...</td>\n      <td>None</td>\n      <td>demo</td>\n      <td>2023-04-25T19:30:33.589-0400</td>\n      <td>2023-04-25T19:30:33.791-0400</td>\n      <td>202.0</td>\n      <td>False</td>\n      <td>False</td>\n      <td>None</td>\n      <td>None</td>\n      <td>2c605fdd-e3c1-11ed-83fe-0242ed2fed37</td>\n    </tr>\n    <tr>\n      <th>4</th>\n      <td>2ccf9c6c-e3c1-11ed-83fe-0242ed2fed37</td>\n      <td>2c7f58dd-e3c1-11ed-83fe-0242ed2fed37</td>\n      <td>Usertask_call_alternative_parts</td>\n      <td>offer alternative part selection</td>\n      <td>userTask</td>\n      <td>personal_computer_sales</td>\n      <td>personal_computer_sales:1:254cb2a0-e3c1-11ed-8...</td>\n      <td>2c7f58dd-e3c1-11ed-83fe-0242ed2fed37</td>\n      <td>2ccf9c6b-e3c1-11ed-83fe-0242ed2fed37</td>\n      <td>2ccf9c6d-e3c1-11ed-83fe-0242ed2fed37</td>\n      <td>...</td>\n      <td>None</td>\n      <td>demo</td>\n      <td>2023-04-25T19:30:33.835-0400</td>\n      <td>2023-04-25T19:30:33.979-0400</td>\n      <td>144.0</td>\n      <td>False</td>\n      <td>False</td>\n      <td>None</td>\n      <td>None</td>\n      <td>2c7f58dd-e3c1-11ed-83fe-0242ed2fed37</td>\n    </tr>\n  </tbody>\n</table>\n<p>5 rows × 21 columns</p>\n</div>"
     },
     "execution_count": 19,
     "metadata": {},
     "output_type": "execute_result"
    }
   ],
   "source": [
    "import secrets\n",
    "\n",
    "import pm4py\n",
    "import requests\n",
    "import json\n",
    "import pandas\n",
    "import numpy\n",
    "\n",
    "def getTasks(taskType):\n",
    "    response = requests.get('http://localhost:8080/engine-rest/history/activity-instance?activityType=' + taskType)\n",
    "    if response.status_code == 200:\n",
    "        return pandas.DataFrame(data=json.loads(response.content))\n",
    "    else:\n",
    "        print(\"request failed for \" + taskType)\n",
    "\n",
    "userTasks = getTasks(\"userTask\")\n",
    "userTasks.head()"
   ]
  },
  {
   "cell_type": "code",
   "execution_count": 20,
   "outputs": [
    {
     "data": {
      "text/plain": "Empty DataFrame\nColumns: []\nIndex: []",
      "text/html": "<div>\n<style scoped>\n    .dataframe tbody tr th:only-of-type {\n        vertical-align: middle;\n    }\n\n    .dataframe tbody tr th {\n        vertical-align: top;\n    }\n\n    .dataframe thead th {\n        text-align: right;\n    }\n</style>\n<table border=\"1\" class=\"dataframe\">\n  <thead>\n    <tr style=\"text-align: right;\">\n      <th></th>\n    </tr>\n  </thead>\n  <tbody>\n  </tbody>\n</table>\n</div>"
     },
     "execution_count": 20,
     "metadata": {},
     "output_type": "execute_result"
    }
   ],
   "source": [
    "tasks = getTasks(\"task\")\n",
    "tasks.head()"
   ],
   "metadata": {
    "collapsed": false,
    "ExecuteTime": {
     "start_time": "2023-04-25T19:51:15.325983Z",
     "end_time": "2023-04-25T19:51:15.366063Z"
    }
   }
  },
  {
   "cell_type": "code",
   "execution_count": 21,
   "outputs": [
    {
     "data": {
      "text/plain": "                                     id              parentActivityInstanceId   \n0  2c5a4554-e3c1-11ed-83fe-0242ed2fed37  2bd16630-e3c1-11ed-83fe-0242ed2fed37  \\\n1  2c728873-e3c1-11ed-83fe-0242ed2fed37  2c605fdd-e3c1-11ed-83fe-0242ed2fed37   \n2  2c7ebc99-e3c1-11ed-83fe-0242ed2fed37  2bd16630-e3c1-11ed-83fe-0242ed2fed37   \n3  2c91cf99-e3c1-11ed-83fe-0242ed2fed37  2c7f58dd-e3c1-11ed-83fe-0242ed2fed37   \n4  2c9af772-e3c1-11ed-83fe-0242ed2fed37  2c605fdd-e3c1-11ed-83fe-0242ed2fed37   \n\n                          activityId           activityName activityType   \n0  Servicetask_check_parts_available  check parts available  serviceTask  \\\n1  Servicetask_check_parts_available  check parts available  serviceTask   \n2  Servicetask_check_parts_available  check parts available  serviceTask   \n3  Servicetask_check_parts_available  check parts available  serviceTask   \n4  Servicetask_check_parts_available  check parts available  serviceTask   \n\n      processDefinitionKey                                processDefinitionId   \n0  personal_computer_sales  personal_computer_sales:1:254cb2a0-e3c1-11ed-8...  \\\n1  personal_computer_sales  personal_computer_sales:1:254cb2a0-e3c1-11ed-8...   \n2  personal_computer_sales  personal_computer_sales:1:254cb2a0-e3c1-11ed-8...   \n3  personal_computer_sales  personal_computer_sales:1:254cb2a0-e3c1-11ed-8...   \n4  personal_computer_sales  personal_computer_sales:1:254cb2a0-e3c1-11ed-8...   \n\n                      processInstanceId                           executionId   \n0  2bd16630-e3c1-11ed-83fe-0242ed2fed37  2c5a1e43-e3c1-11ed-83fe-0242ed2fed37  \\\n1  2c605fdd-e3c1-11ed-83fe-0242ed2fed37  2c726162-e3c1-11ed-83fe-0242ed2fed37   \n2  2bd16630-e3c1-11ed-83fe-0242ed2fed37  2c7ebc98-e3c1-11ed-83fe-0242ed2fed37   \n3  2c7f58dd-e3c1-11ed-83fe-0242ed2fed37  2c91cf98-e3c1-11ed-83fe-0242ed2fed37   \n4  2c605fdd-e3c1-11ed-83fe-0242ed2fed37  2c9ad061-e3c1-11ed-83fe-0242ed2fed37   \n\n  taskId  ... calledCaseInstanceId assignee                     startTime   \n0   None  ...                 None     None  2023-04-25T19:30:33.070-0400  \\\n1   None  ...                 None     None  2023-04-25T19:30:33.227-0400   \n2   None  ...                 None     None  2023-04-25T19:30:33.307-0400   \n3   None  ...                 None     None  2023-04-25T19:30:33.432-0400   \n4   None  ...                 None     None  2023-04-25T19:30:33.492-0400   \n\n                        endTime durationInMillis  canceled  completeScope   \n0  2023-04-25T19:30:33.075-0400                5     False          False  \\\n1  2023-04-25T19:30:33.228-0400                1     False          False   \n2  2023-04-25T19:30:33.310-0400                3     False          False   \n3  2023-04-25T19:30:33.433-0400                1     False          False   \n4  2023-04-25T19:30:33.494-0400                2     False          False   \n\n   tenantId removalTime                 rootProcessInstanceId  \n0      None        None  2bd16630-e3c1-11ed-83fe-0242ed2fed37  \n1      None        None  2c605fdd-e3c1-11ed-83fe-0242ed2fed37  \n2      None        None  2bd16630-e3c1-11ed-83fe-0242ed2fed37  \n3      None        None  2c7f58dd-e3c1-11ed-83fe-0242ed2fed37  \n4      None        None  2c605fdd-e3c1-11ed-83fe-0242ed2fed37  \n\n[5 rows x 21 columns]",
      "text/html": "<div>\n<style scoped>\n    .dataframe tbody tr th:only-of-type {\n        vertical-align: middle;\n    }\n\n    .dataframe tbody tr th {\n        vertical-align: top;\n    }\n\n    .dataframe thead th {\n        text-align: right;\n    }\n</style>\n<table border=\"1\" class=\"dataframe\">\n  <thead>\n    <tr style=\"text-align: right;\">\n      <th></th>\n      <th>id</th>\n      <th>parentActivityInstanceId</th>\n      <th>activityId</th>\n      <th>activityName</th>\n      <th>activityType</th>\n      <th>processDefinitionKey</th>\n      <th>processDefinitionId</th>\n      <th>processInstanceId</th>\n      <th>executionId</th>\n      <th>taskId</th>\n      <th>...</th>\n      <th>calledCaseInstanceId</th>\n      <th>assignee</th>\n      <th>startTime</th>\n      <th>endTime</th>\n      <th>durationInMillis</th>\n      <th>canceled</th>\n      <th>completeScope</th>\n      <th>tenantId</th>\n      <th>removalTime</th>\n      <th>rootProcessInstanceId</th>\n    </tr>\n  </thead>\n  <tbody>\n    <tr>\n      <th>0</th>\n      <td>2c5a4554-e3c1-11ed-83fe-0242ed2fed37</td>\n      <td>2bd16630-e3c1-11ed-83fe-0242ed2fed37</td>\n      <td>Servicetask_check_parts_available</td>\n      <td>check parts available</td>\n      <td>serviceTask</td>\n      <td>personal_computer_sales</td>\n      <td>personal_computer_sales:1:254cb2a0-e3c1-11ed-8...</td>\n      <td>2bd16630-e3c1-11ed-83fe-0242ed2fed37</td>\n      <td>2c5a1e43-e3c1-11ed-83fe-0242ed2fed37</td>\n      <td>None</td>\n      <td>...</td>\n      <td>None</td>\n      <td>None</td>\n      <td>2023-04-25T19:30:33.070-0400</td>\n      <td>2023-04-25T19:30:33.075-0400</td>\n      <td>5</td>\n      <td>False</td>\n      <td>False</td>\n      <td>None</td>\n      <td>None</td>\n      <td>2bd16630-e3c1-11ed-83fe-0242ed2fed37</td>\n    </tr>\n    <tr>\n      <th>1</th>\n      <td>2c728873-e3c1-11ed-83fe-0242ed2fed37</td>\n      <td>2c605fdd-e3c1-11ed-83fe-0242ed2fed37</td>\n      <td>Servicetask_check_parts_available</td>\n      <td>check parts available</td>\n      <td>serviceTask</td>\n      <td>personal_computer_sales</td>\n      <td>personal_computer_sales:1:254cb2a0-e3c1-11ed-8...</td>\n      <td>2c605fdd-e3c1-11ed-83fe-0242ed2fed37</td>\n      <td>2c726162-e3c1-11ed-83fe-0242ed2fed37</td>\n      <td>None</td>\n      <td>...</td>\n      <td>None</td>\n      <td>None</td>\n      <td>2023-04-25T19:30:33.227-0400</td>\n      <td>2023-04-25T19:30:33.228-0400</td>\n      <td>1</td>\n      <td>False</td>\n      <td>False</td>\n      <td>None</td>\n      <td>None</td>\n      <td>2c605fdd-e3c1-11ed-83fe-0242ed2fed37</td>\n    </tr>\n    <tr>\n      <th>2</th>\n      <td>2c7ebc99-e3c1-11ed-83fe-0242ed2fed37</td>\n      <td>2bd16630-e3c1-11ed-83fe-0242ed2fed37</td>\n      <td>Servicetask_check_parts_available</td>\n      <td>check parts available</td>\n      <td>serviceTask</td>\n      <td>personal_computer_sales</td>\n      <td>personal_computer_sales:1:254cb2a0-e3c1-11ed-8...</td>\n      <td>2bd16630-e3c1-11ed-83fe-0242ed2fed37</td>\n      <td>2c7ebc98-e3c1-11ed-83fe-0242ed2fed37</td>\n      <td>None</td>\n      <td>...</td>\n      <td>None</td>\n      <td>None</td>\n      <td>2023-04-25T19:30:33.307-0400</td>\n      <td>2023-04-25T19:30:33.310-0400</td>\n      <td>3</td>\n      <td>False</td>\n      <td>False</td>\n      <td>None</td>\n      <td>None</td>\n      <td>2bd16630-e3c1-11ed-83fe-0242ed2fed37</td>\n    </tr>\n    <tr>\n      <th>3</th>\n      <td>2c91cf99-e3c1-11ed-83fe-0242ed2fed37</td>\n      <td>2c7f58dd-e3c1-11ed-83fe-0242ed2fed37</td>\n      <td>Servicetask_check_parts_available</td>\n      <td>check parts available</td>\n      <td>serviceTask</td>\n      <td>personal_computer_sales</td>\n      <td>personal_computer_sales:1:254cb2a0-e3c1-11ed-8...</td>\n      <td>2c7f58dd-e3c1-11ed-83fe-0242ed2fed37</td>\n      <td>2c91cf98-e3c1-11ed-83fe-0242ed2fed37</td>\n      <td>None</td>\n      <td>...</td>\n      <td>None</td>\n      <td>None</td>\n      <td>2023-04-25T19:30:33.432-0400</td>\n      <td>2023-04-25T19:30:33.433-0400</td>\n      <td>1</td>\n      <td>False</td>\n      <td>False</td>\n      <td>None</td>\n      <td>None</td>\n      <td>2c7f58dd-e3c1-11ed-83fe-0242ed2fed37</td>\n    </tr>\n    <tr>\n      <th>4</th>\n      <td>2c9af772-e3c1-11ed-83fe-0242ed2fed37</td>\n      <td>2c605fdd-e3c1-11ed-83fe-0242ed2fed37</td>\n      <td>Servicetask_check_parts_available</td>\n      <td>check parts available</td>\n      <td>serviceTask</td>\n      <td>personal_computer_sales</td>\n      <td>personal_computer_sales:1:254cb2a0-e3c1-11ed-8...</td>\n      <td>2c605fdd-e3c1-11ed-83fe-0242ed2fed37</td>\n      <td>2c9ad061-e3c1-11ed-83fe-0242ed2fed37</td>\n      <td>None</td>\n      <td>...</td>\n      <td>None</td>\n      <td>None</td>\n      <td>2023-04-25T19:30:33.492-0400</td>\n      <td>2023-04-25T19:30:33.494-0400</td>\n      <td>2</td>\n      <td>False</td>\n      <td>False</td>\n      <td>None</td>\n      <td>None</td>\n      <td>2c605fdd-e3c1-11ed-83fe-0242ed2fed37</td>\n    </tr>\n  </tbody>\n</table>\n<p>5 rows × 21 columns</p>\n</div>"
     },
     "execution_count": 21,
     "metadata": {},
     "output_type": "execute_result"
    }
   ],
   "source": [
    "serviceTasks = getTasks(\"serviceTask\")\n",
    "serviceTasks.head()"
   ],
   "metadata": {
    "collapsed": false,
    "ExecuteTime": {
     "start_time": "2023-04-25T19:51:15.341221Z",
     "end_time": "2023-04-25T19:51:15.402636Z"
    }
   }
  },
  {
   "cell_type": "code",
   "execution_count": 31,
   "outputs": [],
   "source": [
    "scriptTasks = getTasks(\"scriptTask\")\n",
    "scriptTasks.head()"
   ],
   "metadata": {
    "collapsed": false,
    "ExecuteTime": {
     "start_time": "2023-04-25T19:52:00.538336Z",
     "end_time": "2023-04-25T19:52:00.595361Z"
    }
   }
  },
  {
   "cell_type": "code",
   "execution_count": 32,
   "outputs": [],
   "source": [
    "print(len(serviceTasks))\n",
    "print(len(userTasks))\n",
    "print(len(tasks))\n",
    "print(len(scriptTasks))"
   ],
   "metadata": {
    "collapsed": false,
    "ExecuteTime": {
     "start_time": "2023-04-25T19:52:04.496140Z",
     "end_time": "2023-04-25T19:52:04.513641Z"
    }
   }
  },
  {
   "cell_type": "code",
   "execution_count": 33,
   "outputs": [],
   "source": [
    "from random import seed\n",
    "from random import randint\n",
    "\n",
    "def  removeRandomTasks(dataframe):\n",
    "    # seed random number generator\n",
    "    seed(1)\n",
    "    # generate some random numbers\n",
    "    iterations = round(len(dataframe)/100*5)\n",
    "    print(\"dataframe len: \")\n",
    "    print(len(dataframe))\n",
    "    print(\"iterations: \")\n",
    "    print(iterations)\n",
    "    for x in range(iterations) :\n",
    "        try:\n",
    "            index = randint(0, len(dataframe))\n",
    "            dataframe = dataframe.drop(index)\n",
    "        except:\n",
    "            print(\"could not remove index \" + index.__str__())\n",
    "\n",
    "    print(\"dataframe len: \")\n",
    "    print(len(dataframe).__str__())\n",
    "    return dataframe"
   ],
   "metadata": {
    "collapsed": false,
    "ExecuteTime": {
     "start_time": "2023-04-25T19:52:08.387943Z",
     "end_time": "2023-04-25T19:52:08.401718Z"
    }
   }
  },
  {
   "cell_type": "code",
   "execution_count": 34,
   "outputs": [],
   "source": [
    "serviceTasks = removeRandomTasks(serviceTasks)\n",
    "userTasks = removeRandomTasks(userTasks)\n",
    "tasks = removeRandomTasks(tasks)\n",
    "scriptTasks = removeRandomTasks(scriptTasks)"
   ],
   "metadata": {
    "collapsed": false,
    "ExecuteTime": {
     "start_time": "2023-04-25T19:52:10.487047Z",
     "end_time": "2023-04-25T19:52:10.552887Z"
    }
   }
  },
  {
   "cell_type": "code",
   "execution_count": 35,
   "outputs": [],
   "source": [
    "print(len(serviceTasks))\n",
    "print(len(userTasks))\n",
    "print(len(tasks))\n",
    "print(len(scriptTasks))"
   ],
   "metadata": {
    "collapsed": false,
    "ExecuteTime": {
     "start_time": "2023-04-25T19:52:11.453130Z",
     "end_time": "2023-04-25T19:52:11.469156Z"
    }
   }
  },
  {
   "cell_type": "code",
   "execution_count": 36,
   "outputs": [],
   "source": [
    "frames = [userTasks, serviceTasks, tasks, scriptTasks]\n",
    "all_tasks = pandas.concat(frames)\n",
    "all_tasks.head(100)"
   ],
   "metadata": {
    "collapsed": false,
    "ExecuteTime": {
     "start_time": "2023-04-25T19:52:25.494282Z",
     "end_time": "2023-04-25T19:52:25.532584Z"
    }
   }
  },
  {
   "cell_type": "code",
   "execution_count": 37,
   "outputs": [],
   "source": [
    "cleansed_data = all_tasks.filter(items = ['processInstanceId','endTime','startTime','activityName','assignee'])\n",
    "cleansed_data = cleansed_data.replace(\"demo\", 'Demo-User', regex=True)\n",
    "# cleansed_data = cleansed_data.replace(null, 'System', regex=True)\n",
    "print(cleansed_data.replace(r'^\\s*$', numpy.nan, regex=True))\n",
    "cleansed_data.head(100)"
   ],
   "metadata": {
    "collapsed": false,
    "ExecuteTime": {
     "start_time": "2023-04-25T19:52:28.172610Z",
     "end_time": "2023-04-25T19:52:28.204421Z"
    }
   }
  },
  {
   "cell_type": "code",
   "execution_count": 38,
   "outputs": [],
   "source": [
    "event_log = pm4py.format_dataframe(cleansed_data, case_id='processInstanceId', activity_key='activityName', timestamp_key='startTime')\n",
    "start_activities = pm4py.get_start_activities(event_log)\n",
    "end_activities = pm4py.get_end_activities(event_log)\n",
    "print(\"Start activities: {}\\nEnd activities: {}\".format(start_activities, end_activities))"
   ],
   "metadata": {
    "collapsed": false,
    "ExecuteTime": {
     "start_time": "2023-04-25T19:52:28.974049Z",
     "end_time": "2023-04-25T19:52:29.021817Z"
    }
   }
  },
  {
   "cell_type": "code",
   "execution_count": 39,
   "outputs": [],
   "source": [
    "pm4py.write_xes(event_log, \"./sales.xes\")"
   ],
   "metadata": {
    "collapsed": false,
    "ExecuteTime": {
     "start_time": "2023-04-25T19:52:29.818584Z",
     "end_time": "2023-04-25T19:52:29.913260Z"
    }
   }
  },
  {
   "cell_type": "code",
   "execution_count": 30,
   "outputs": [],
   "source": [],
   "metadata": {
    "collapsed": false,
    "ExecuteTime": {
     "start_time": "2023-04-25T19:51:15.680356Z",
     "end_time": "2023-04-25T19:51:15.803733Z"
    }
   }
  }
 ],
 "metadata": {
  "kernelspec": {
   "display_name": "Python 3",
   "language": "python",
   "name": "python3"
  },
  "language_info": {
   "codemirror_mode": {
    "name": "ipython",
    "version": 2
   },
   "file_extension": ".py",
   "mimetype": "text/x-python",
   "name": "python",
   "nbconvert_exporter": "python",
   "pygments_lexer": "ipython2",
   "version": "2.7.6"
  }
 },
 "nbformat": 4,
 "nbformat_minor": 0
}
